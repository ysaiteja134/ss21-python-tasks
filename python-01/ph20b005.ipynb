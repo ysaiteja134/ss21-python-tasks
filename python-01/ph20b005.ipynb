{
 "cells": [
  {
   "cell_type": "markdown",
   "id": "bab1305b",
   "metadata": {},
   "source": [
    "# Module 1.2 - Python Part 1 Task"
   ]
  },
  {
   "cell_type": "markdown",
   "id": "a7c3c36a",
   "metadata": {},
   "source": [
    "# Problem 1 Solution"
   ]
  },
  {
   "cell_type": "code",
   "execution_count": 1,
   "id": "3212ed9a",
   "metadata": {},
   "outputs": [],
   "source": [
    "def lagrange_polynomial(datalist, xvalue):\n",
    "    len1 = len(datalist)\n",
    "    mathflag = 0\n",
    "    a = [datalist[i][0] for i in range(len1)]\n",
    "    b = [datalist[i][1] for i in range(len1)]\n",
    "    for i in range(len1):\n",
    "        if xvalue == a[i]:\n",
    "            mathflag = 1\n",
    "            return b[i]\n",
    "    if mathflag == 0 :\n",
    "        list1 = [(xvalue - a[i]) for i in range(len1)]\n",
    "        prod_list1 = 1\n",
    "        for i in range(len1):\n",
    "            prod_list1 = prod_list1*list1[i]\n",
    "        def deno_func(x,k):\n",
    "            list2 = []\n",
    "            for i in range(len1):\n",
    "                if i != k :\n",
    "                    list2.append(x-a[i])\n",
    "            prod_list2 = 1\n",
    "            for i in range(len1 -1):\n",
    "                prod_list2 = prod_list2*list2[i]\n",
    "            return(prod_list2)\n",
    "        masterlist = []\n",
    "        for i in range(len1):\n",
    "            g = b[i]*prod_list1/((xvalue - a[i])*deno_func(a[i],i))\n",
    "            masterlist.append(g)\n",
    "        return(sum(masterlist))"
   ]
  },
  {
   "cell_type": "markdown",
   "id": "beb4efc6",
   "metadata": {},
   "source": [
    "# Problem 2 Solution"
   ]
  },
  {
   "cell_type": "code",
   "execution_count": 2,
   "id": "43d2dc44",
   "metadata": {},
   "outputs": [],
   "source": [
    "def inv_rotn_encrypt(message, shift):\n",
    "    msg_lc = message.lower()\n",
    "    msg_list = [i for i in msg_lc]\n",
    "    alphabet_list = [i for i in \"abcdefghijklmnopqrstuvwxyz\"]\n",
    "    sh_alph_list = alphabet_list[shift:] + alphabet_list[:shift]\n",
    "    encrypted = \"\"\n",
    "    for i in msg_list:\n",
    "        if (i in alphabet_list):\n",
    "            j = alphabet_list.index(i)\n",
    "            encrypted+=sh_alph_list[j]\n",
    "    encrypted = encrypted[::-1]\n",
    "    return encrypted"
   ]
  },
  {
   "cell_type": "code",
   "execution_count": 3,
   "id": "4605f1b0",
   "metadata": {},
   "outputs": [],
   "source": [
    "def inv_rotn_decrypt(secret, shift):\n",
    "    secret_fwd = secret[::-1]\n",
    "    secret_fwd_lc = secret_fwd.lower()\n",
    "    secret_list = [i for i in secret_fwd_lc]\n",
    "    alphabet_list = [i for i in \"abcdefghijklmnopqrstuvwxyz\"]\n",
    "    sh_alph_list = alphabet_list[shift:] + alphabet_list[:shift]\n",
    "    decrypted = \"\"\n",
    "    for i in secret_list:\n",
    "        j = sh_alph_list.index(i)\n",
    "        decrypted+=alphabet_list[j]\n",
    "    return decrypted"
   ]
  },
  {
   "cell_type": "code",
   "execution_count": null,
   "id": "c30bf7ce",
   "metadata": {},
   "outputs": [],
   "source": []
  }
 ],
 "metadata": {
  "kernelspec": {
   "display_name": "Python 3 (ipykernel)",
   "language": "python",
   "name": "python3"
  },
  "language_info": {
   "codemirror_mode": {
    "name": "ipython",
    "version": 3
   },
   "file_extension": ".py",
   "mimetype": "text/x-python",
   "name": "python",
   "nbconvert_exporter": "python",
   "pygments_lexer": "ipython3",
   "version": "3.8.10"
  }
 },
 "nbformat": 4,
 "nbformat_minor": 5
}
